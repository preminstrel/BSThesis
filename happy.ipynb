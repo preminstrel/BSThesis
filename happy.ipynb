{
 "cells": [
  {
   "cell_type": "code",
   "execution_count": 2,
   "metadata": {},
   "outputs": [],
   "source": [
    "import torch.nn as nn\n",
    "import torch\n",
    "\n",
    "from torchsummary import summary\n",
    "from torchviz import make_dot\n",
    "\n",
    "from models.build import build_model\n",
    "\n",
    "from engine.train import Trainer, setup_seed\n",
    "\n",
    "from utils.info import terminal_msg, epic_start, get_device\n",
    "from utils.parser import ParserArgs\n",
    "from utils.data import count_file\n",
    "from utils.model import count_parameters, save_checkpoint, resume_checkpoint\n",
    "\n",
    "from data.dataset import TrainDataset, get_transforms"
   ]
  },
  {
   "cell_type": "code",
   "execution_count": 5,
   "metadata": {},
   "outputs": [
    {
     "ename": "AttributeError",
     "evalue": "'list' object has no attribute 'data'",
     "output_type": "error",
     "traceback": [
      "\u001b[0;31m---------------------------------------------------------------------------\u001b[0m",
      "\u001b[0;31mAttributeError\u001b[0m                            Traceback (most recent call last)",
      "\u001b[1;32m/Users/preminstrel/Desktop/thesis/happy.ipynb Cell 2\u001b[0m in \u001b[0;36m<cell line: 2>\u001b[0;34m()\u001b[0m\n\u001b[1;32m      <a href='vscode-notebook-cell:/Users/preminstrel/Desktop/thesis/happy.ipynb#W1sZmlsZQ%3D%3D?line=0'>1</a>\u001b[0m args \u001b[39m=\u001b[39m []\n\u001b[0;32m----> <a href='vscode-notebook-cell:/Users/preminstrel/Desktop/thesis/happy.ipynb#W1sZmlsZQ%3D%3D?line=1'>2</a>\u001b[0m args\u001b[39m.\u001b[39mdata \u001b[39m=\u001b[39m \u001b[39m'\u001b[39m\u001b[39mOCT2017\u001b[39m\u001b[39m'\u001b[39m\n\u001b[1;32m      <a href='vscode-notebook-cell:/Users/preminstrel/Desktop/thesis/happy.ipynb#W1sZmlsZQ%3D%3D?line=2'>3</a>\u001b[0m setup_seed(\u001b[39m123\u001b[39m)\n\u001b[1;32m      <a href='vscode-notebook-cell:/Users/preminstrel/Desktop/thesis/happy.ipynb#W1sZmlsZQ%3D%3D?line=3'>4</a>\u001b[0m model \u001b[39m=\u001b[39m build_model(args)\n",
      "\u001b[0;31mAttributeError\u001b[0m: 'list' object has no attribute 'data'"
     ]
    }
   ],
   "source": [
    "args = []\n",
    "args.data = 'OCT2017'\n",
    "setup_seed(123)\n",
    "model = build_model(args)\n",
    "device = get_device()\n",
    "#Trainer(args, model, device)\n",
    "transfrom = get_transforms(224)\n",
    "dataset = TrainDataset(args, transform=transfrom)"
   ]
  },
  {
   "cell_type": "code",
   "execution_count": null,
   "metadata": {},
   "outputs": [],
   "source": []
  }
 ],
 "metadata": {
  "kernelspec": {
   "display_name": "Python 3.9.13 ('pytorch')",
   "language": "python",
   "name": "python3"
  },
  "language_info": {
   "codemirror_mode": {
    "name": "ipython",
    "version": 3
   },
   "file_extension": ".py",
   "mimetype": "text/x-python",
   "name": "python",
   "nbconvert_exporter": "python",
   "pygments_lexer": "ipython3",
   "version": "3.9.13"
  },
  "orig_nbformat": 4,
  "vscode": {
   "interpreter": {
    "hash": "e6cb681cca27056c527f96a4e6063e99a3784753eeea1548beea36be611cd15c"
   }
  }
 },
 "nbformat": 4,
 "nbformat_minor": 2
}
